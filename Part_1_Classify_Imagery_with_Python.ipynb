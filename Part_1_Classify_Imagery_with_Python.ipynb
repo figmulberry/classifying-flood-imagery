{
 "cells": [
  {
   "cell_type": "markdown",
   "metadata": {},
   "source": [
    "## Classify Flooding in Imagery with Python in ArcGIS Pro \n",
    "\n",
    "As a remote sensing analyst in a humanitarian organization, you conduct analyses to support responses to disasters. For flood events, you must quickly analyze satellite imagery and identify areas that have been recently flooded.\n",
    "\n",
    "In this lesson, you will learn how to develop an automated tool to identify flooded areas in satellite imagery. You will first use Python code running in a notebook in ArcGIS Pro. Then you'll turn the code into a script tool that can be used by analysts who don't have a programming background. "
   ]
  },
  {
   "cell_type": "markdown",
   "metadata": {},
   "source": [
    "### Import required Python modules and packages\n",
    "You'll import the following modules and packages used in the process.\n",
    "- [os](https://docs.python.org/3/library/os.html): A standard Python module for operating system-dependent functions, such as path manipulation.\n",
    "- [glob](https://docs.python.org/3/library/glob.html): A standard Python module that enables simple pathname matching and list generation.\n",
    "- [arcpy](https://pro.arcgis.com/en/pro-app/latest/arcpy/main/arcgis-pro-arcpy-reference.htm): A Python site package installed with ArcGIS Pro to perform _geographic data analysis_, _data conversion_, _data management_, and _map automation_.\n",
    "- arcpy.sa: A Python module within the arcpy package for analyzing raster and vector data with the ArcGIS [Spatial Analyst extension](https://pro.arcgis.com/en/pro-app/2.8/arcpy/spatial-analyst/what-is-the-spatial-analyst-module.htm). You must have a Spatial Analyst license to use this module.  \n",
    "\n",
    "This workflow uses packages that are installed with ArcGIS Pro's Python 3 distribution, so you will not need to install additional packages."
   ]
  },
  {
   "cell_type": "markdown",
   "metadata": {},
   "source": [
    "1. Run the cell below to import the required modules and packages."
   ]
  },
  {
   "cell_type": "code",
   "execution_count": null,
   "metadata": {},
   "outputs": [],
   "source": [
    "# Imports\n",
    "import os\n",
    "from glob import glob\n",
    "import arcpy\n",
    "from arcpy.sa import *"
   ]
  },
  {
   "cell_type": "markdown",
   "metadata": {},
   "source": [
    "The modules and packages are now available for your code to use."
   ]
  },
  {
   "cell_type": "markdown",
   "metadata": {},
   "source": [
    "### Set paths to the input and output folders\n",
    "To run the code, you must set three variables to store the paths to the input imagery and to the location where the results will be saved.  \n",
    "The variables are:\n",
    "- before_img_folder: This is the path to the folder on your hard drive where the pre-flood/before imagery is located.\n",
    "- after_img_folder: This is the path to the folder on your hard drive where the post-flood/after imagery is located.\n",
    "- final_output_folder: This is the path to the folder on your hard drive where the final resulting output files are written."
   ]
  },
  {
   "cell_type": "markdown",
   "metadata": {},
   "source": [
    "1. If you used a path other than **C:\\Lessons\\AnalyzeFlooding\\Sentinel_2_Clipped** for the data, you must edit the three paths in the cell below before running the cell.  \n",
    "\n",
    "If you edit the paths, make sure the new paths include the **Before**, **After**, and **Output** folder names."
   ]
  },
  {
   "cell_type": "markdown",
   "metadata": {},
   "source": [
    "2. Run the cell below to create the variables and set them to hold the input and output data paths.  "
   ]
  },
  {
   "cell_type": "code",
   "execution_count": null,
   "metadata": {},
   "outputs": [],
   "source": [
    "# Set the input and output folder location variables.\n",
    "# These must point to the locations of the folders in the Sentinel_2_Clipped folder you extracted.\n",
    "# The \"r\" prefixes to the path strings indicate that these are \"raw\" strings in Python, and \n",
    "# the \\ characters should not be treated as an escape character. If you edit these paths, remember\n",
    "# to keep the \\Before, \\After, and \\Output folder names in the paths.\n",
    "\n",
    "# This is the folder containing the pre-flood imagery\n",
    "before_img_folder = r\"C:\\Lessons\\AnalyzeFlooding\\Sentinel_2_Clipped\\Before\"\n",
    "\n",
    "# This is the folder containing the post-flood imagery\n",
    "after_img_folder = r\"C:\\Lessons\\AnalyzeFlooding\\Sentinel_2_Clipped\\After\"\n",
    "\n",
    "# This is the folder where the final result files will be written\n",
    "final_output_folder = r\"C:\\Lessons\\AnalyzeFlooding\\Sentinel_2_Clipped\\Output\""
   ]
  },
  {
   "cell_type": "markdown",
   "metadata": {},
   "source": [
    "### Create a function to identify imagery band data  \n",
    "\n",
    "Your analysis will use Sentinel-2 multispectral imagery. These images are composed of [13 spectral bands](https://sentinels.copernicus.eu/web/sentinel/technical-guides/sentinel-2-msi/msi-instrument), but in this workflow you will only use 6 specific bands: Blue, Green, Red, Red Edge 1, Near Infrared 2, and Shortwave Infrared 2. The bands are stored as separate files.\n",
    "\n",
    "Before you can begin the analysis, you must create a function to identify the files for the spectral bands from the imagery, and store the paths to those files in variables. This will allow you to refer to the bands using short variable names, rather than the long file paths. Sentinel-2 imagery is typically delivered with each of the bands stored in a separate JPEG 2000 (.jp2) file. Each band file ends with the band number as part of the file name. For example, the red band, band 4, file names end with \"B04.jp2\". With this formatting in mind, you will create a Python function that will take the folder containing the band images as an input parameter and return a variable that references each band's absolute path on your computer.\n",
    "\n",
    "For the analysis you will use four specific bands, Red-Edge-1, SWIR-2, Green, and Near-Infrared-2. You will also use the Red and Blue bands to generate a composite image to visually inspect the imagery. This process can be used to access any of the bands to create other imagery analysis indicies.\n",
    "\n",
    "To do this, you will define a function `create_sen2_band_variables` to do the following:  \n",
    "- Get a list of all .jp2 image files in the input folder using the glob module and store that list in a variable named `band_list`.\n",
    "- Use [list comprehension](https://docs.python.org/3/tutorial/datastructures.html#list-comprehensions) to find the files corresponding with the various Sentinel-2 bands, and store their paths in variables with their respective names such as `Blue`, `Green`, `Red`, or `NIR`.\n",
    "- Return the band variables containing the paths to the image files."
   ]
  },
  {
   "cell_type": "markdown",
   "metadata": {},
   "source": [
    "1. Run the cell below to define the function to create the band path variables."
   ]
  },
  {
   "cell_type": "code",
   "execution_count": null,
   "metadata": {},
   "outputs": [],
   "source": [
    "def create_sen2_band_variables(in_folder):\n",
    "    \"\"\"A function that creates band variables for Sentinel-2 imagery given the folder with all the band images.\"\"\"\n",
    "    \n",
    "    # Use arcpy.AddMessage like print() to print to the ArcGIS Geoprocessing messages\n",
    "    arcpy.AddMessage(\"Creating variables for image bands...\")\n",
    "\n",
    "    # Get a list of the jpg2000 files in the input folder and store it in a list\n",
    "    band_list = glob(in_folder + \"/*.jp2\")\n",
    "\n",
    "    # Use list comprehension to get files in the band_list which correspond to the specific Sentinel-2 band file names\n",
    "    Blue = [x for x in band_list if x.endswith(\"B02.jp2\")][0]\n",
    "    Green = [x for x in band_list if x.endswith(\"B03.jp2\")][0]\n",
    "    Red = [x for x in band_list if x.endswith(\"B04.jp2\")][0]\n",
    "    Red_Edge_1 = [x for x in band_list if x.endswith(\"B05.jp2\")][0]\n",
    "    NIR = [x for x in band_list if x.endswith(\"B08.jp2\")][0]\n",
    "    SWIR2 = [x for x in band_list if x.endswith(\"B12.jp2\")][0]\n",
    "\n",
    "    # Return the band variables\n",
    "    return Blue, Green, Red, Red_Edge_1, NIR, SWIR2"
   ]
  },
  {
   "cell_type": "markdown",
   "metadata": {},
   "source": [
    "Now that the function has been defined, you will test it by calling it on an image folder to see if it creates the band image paths correctly.  \n",
    "Since the function returns data for several bands, you will set the results of the function equal to a corresponding set of variables. The order of the variables you create must match the order of the band data returned by the function. In this case, you will run the function on the post-flood imagery. To indicate this, you'll add an \"after\" prefix to each variable name to distinguish it from the band data for the pre-flood imagery.  "
   ]
  },
  {
   "cell_type": "markdown",
   "metadata": {},
   "source": [
    "2. Run the cell below to test the function."
   ]
  },
  {
   "cell_type": "code",
   "execution_count": null,
   "metadata": {
    "scrolled": false
   },
   "outputs": [],
   "source": [
    "# call the create_sen2_band_variables function on the folder containing the after imagery\n",
    "after_Blue, after_Green, after_Red, after_Red_Edge_1, after_NIR, after_SWIR2 = create_sen2_band_variables(after_img_folder)\n",
    "\n",
    "# print a couple bands to see the results\n",
    "print(after_Red)  # print the path of the Red band\n",
    "print(after_NIR)  # print the path of the NIR band"
   ]
  },
  {
   "cell_type": "markdown",
   "metadata": {},
   "source": [
    "If you see two paths printed after the previous cell, such as the following, then the function correctly selected band 4 for the Red band and band 8 for the NIR band.  \n",
    "    C:\\Lessons\\AnalyzeFlooding\\Sentinel_2_Clipped\\After\\Clipped_T42TVK_20200504T061629_B04.jp2\n",
    "    C:\\Lessons\\AnalyzeFlooding\\Sentinel_2_Clipped\\After\\Clipped_T42TVK_20200504T061629_B08.jp2  \n",
    "    \n",
    "The paths are the paths to the band images on your computer.  \n",
    "If you see an error message such as **IndexError: list index out of range**, go back and check the cell where you set the paths to the Before, After, and Output folders on your computer. There is probably a problem with these paths. Check the paths on your computer and edit the paths in the cell to match, run the cell again, and run the cell to test the function again."
   ]
  },
  {
   "cell_type": "markdown",
   "metadata": {},
   "source": [
    "Next, you will view the post-flood imagery you are working with. To do so, you will create a composite image using a false-color band combination (Near Infrared, Red, Green) to make the water and land more distinct. You will use the [Composite Bands geoprocessing tool](https://pro.arcgis.com/en/pro-app/latest/tool-reference/data-management/composite-bands.htm) to accomplish this. "
   ]
  },
  {
   "cell_type": "markdown",
   "metadata": {},
   "source": [
    "3. Run the cell below to draw the composite image.  \n",
    "\n",
    "When you run the cell, it may take some time to process. After it finishes, a message will appear telling you that the tool succeeded."
   ]
  },
  {
   "cell_type": "code",
   "execution_count": null,
   "metadata": {
    "scrolled": true
   },
   "outputs": [],
   "source": [
    "# create the composite image, storing the output in memory\n",
    "arcpy.CompositeBands_management(in_rasters=f\"{after_NIR};{after_Red};{after_Green}\",\n",
    "                                out_raster=r\"memory\\after_composite_img\")"
   ]
  },
  {
   "cell_type": "markdown",
   "metadata": {},
   "source": [
    "4. Click the **Map** tab to view the results. \n",
    "\n",
    "5. In the **Contents** pane, right-click **after_composite_img** and click **Zoom To Layer**.  \n",
    "\n",
    "You see the False Color Infrared image representing the post flood area. Vegetated areas appear red and water appears vibrant blue."
   ]
  },
  {
   "cell_type": "markdown",
   "metadata": {},
   "source": [
    "### Create spectral index functions\n",
    "\n",
    "To identify water in the imagery, you will use spectral indices. A spectral index applies a mathematical calculation to compute a ratio between different bands for every pixel in the imagery, with the goal of highlighting a specific phenomenon. You will use two indices, both designed for water identification:  [Sentinel-2 Water Index](https://www.mdpi.com/2073-4441/13/12/1647/htm) and the [Normalized Difference Water Index](https://pro.arcgis.com/en/pro-app/2.8/arcpy/spatial-analyst/ndwi.htm) (NDWI).\n",
    "\n",
    "- The SWI relies on the Red Edge 1 and SWIR2 bands. The formula for this index is: `SWI = (Red_Edge1 - SWIR2) / (Red_Edge1 + SWIR2)`\n",
    "\n",
    "- The NDWI uses the Green and Near Infrared (NIR) bands. The formula for this index is: `NDWI = (Green - NIR) / (Green + NIR)`\n",
    "\n",
    "The overall strategy for your analysis will be to do the following:\n",
    "\n",
    "- Apply SWI to find the pixels in the imagery that are covered with water. \n",
    "\n",
    "- Apply NDWI to find the pixels  in the imagery that are covered with water. \n",
    "\n",
    "- Find the pixels where water has been detected for both SWI and NDWI.  \n",
    "\n",
    "This approach ensures more robust detection results than using a single index.  \n",
    "**Note**: While you will only use two indices for this exercise, including more indices in this process can increase the accuracy of the analysis.  \n",
    "\n",
    "You will use the `arcpy.sa` module to do [Map Algebra](https://pro.arcgis.com/en/pro-app/latest/arcpy/spatial-analyst/an-overview-of-the-map-algebra-operators.htm) to calculate the cell values. There are also a number of built-in spectral index [raster functions](https://pro.arcgis.com/en/pro-app/latest/arcpy/image-analyst/an-overview-of-the-image-analyst-functions.htm) available in the [Image Analysis module](https://pro.arcgis.com/en/pro-app/latest/arcpy/image-analyst/what-is-the-image-analyst-module.htm). "
   ]
  },
  {
   "cell_type": "markdown",
   "metadata": {},
   "source": [
    "1. Run the cell below to define the swi_processor function."
   ]
  },
  {
   "cell_type": "code",
   "execution_count": null,
   "metadata": {},
   "outputs": [],
   "source": [
    "# creates SWI processor function\n",
    "def swi_processor(red_edge1_band, swir2_band):\n",
    "    \"\"\"Create a function which calculates the SWI for the given input image.\"\"\"\n",
    "    \n",
    "    arcpy.AddMessage(\"\\nBegining SWI Calculation...\")\n",
    "    \n",
    "    # Calculate the SWI - Sentinel-2 Water Index\n",
    "    # SWI Formula = (Red_Edge1 - SWIR2) / (Red_Edge1 + SWIR2)\n",
    "    \n",
    "    # Create a variable to store the calculation for the numerator\n",
    "    # using arcpy spatial analyst Float tool to create a raster with floating point cell values\n",
    "    Numerator = arcpy.sa.Float(Raster(red_edge1_band) - Raster(swir2_band))\n",
    "    \n",
    "    # Create a variable to store the calculation for the denominator\n",
    "    # using arcpy spatial analyst Float tool to create a raster with floating point cell values\n",
    "    Denominator = arcpy.sa.Float(Raster(red_edge1_band) + Raster(swir2_band))\n",
    "    \n",
    "    # Use the arcpy spatial analyst Divide tool to divide the numerator and the denominator \n",
    "    SWI = arcpy.sa.Divide(Numerator, Denominator)\n",
    "\n",
    "    # return the results\n",
    "    return SWI\n",
    "    \n",
    "    arcpy.AddMessage(\"SWI Successfully Generated\")"
   ]
  },
  {
   "cell_type": "markdown",
   "metadata": {},
   "source": [
    "Next, you will create another function for the NDWI index. It will use the same basic workflow and process as the SWI function but will use the NDWI formula and required bands instead."
   ]
  },
  {
   "cell_type": "markdown",
   "metadata": {},
   "source": [
    "2. Run the cell below to define the ndwi_processor function."
   ]
  },
  {
   "cell_type": "code",
   "execution_count": null,
   "metadata": {},
   "outputs": [],
   "source": [
    "# creates NDWI processor function\n",
    "def ndwi_processor(green_band, nir_band):\n",
    "    \"\"\"Create a function which calculates the NDWI for the given input image.\"\"\"\n",
    "\n",
    "    arcpy.AddMessage(\"\\nBegining NDWI Calculation...\")\n",
    "    \n",
    "    # Calculate the NDWI - Normalized Difference Water Index\n",
    "    # NDWI Formula = (Green - NIR) / (Green + NIR)\n",
    "\n",
    "    # Create a variable to store the calculation for the numerator\n",
    "    # using arcpy spatial analyst Float tool to create a raster with floating point cell values\n",
    "    Num = arcpy.sa.Float(Raster(green_band) - Raster(nir_band))\n",
    "    \n",
    "    # Create a variable to store the calculation for the denominator\n",
    "    # using arcpy spatial analyst Float tool to create a raster with floating point cell values\n",
    "    Denom = arcpy.sa.Float(Raster(green_band) + Raster(nir_band))\n",
    "    \n",
    "    # Use the arcpy spatial analyst Divide tool to divide the numerator and the denominator \n",
    "    NDWI = arcpy.sa.Divide(Num, Denom)\n",
    "    \n",
    "    # return the results\n",
    "    return NDWI\n",
    "    \n",
    "    arcpy.AddMessage(\"NDWI Successfully Generated\")"
   ]
  },
  {
   "cell_type": "markdown",
   "metadata": {},
   "source": [
    "Now that the two functions are defined, you'll run them on the image and view the results on the map.  \n",
    "\n",
    "3. Run the cell below to calculate the SWI and NDWI indices for the after-flooding image."
   ]
  },
  {
   "cell_type": "code",
   "execution_count": null,
   "metadata": {},
   "outputs": [],
   "source": [
    "# Process SWI \n",
    "# Create the SWI raster\n",
    "after_swi_calc = swi_processor(red_edge1_band=after_Red_Edge_1,\n",
    "                               swir2_band=after_SWIR2)\n",
    "\n",
    "# Create path for output SWI file\n",
    "after_swi_raster = r\"memory\\after_swi_raster\"\n",
    "\n",
    "# Save the result\n",
    "after_swi_calc.save(after_swi_raster)\n",
    "\n",
    "\n",
    "# Process NDWI \n",
    "# Create the NDWI raster\n",
    "after_ndwi_calc = ndwi_processor(green_band=after_Green,\n",
    "                                 nir_band=after_NIR)\n",
    "\n",
    "# Create path for output NDWI file\n",
    "after_ndwi_raster = r\"memory\\after_ndwi_raster\"\n",
    "\n",
    "# Save the result\n",
    "after_ndwi_calc.save(after_ndwi_raster)"
   ]
  },
  {
   "cell_type": "markdown",
   "metadata": {},
   "source": [
    "Now that you've added the index rasters to the map, you can inspect the images.  \n",
    "\n",
    "4. Click the **Map** tab to view the results.  \n",
    "\n",
    "Areas with higher pixel values correspond to water and are symbolized by white.  \n",
    "\n",
    "Can you see the areas that correspond with water?"
   ]
  },
  {
   "cell_type": "markdown",
   "metadata": {},
   "source": [
    "### Create a thresholding function\n",
    "\n",
    "Now that you have created the functions to calculate the indices, you must determine how to separate the water from the non-water in the resulting SWI and NDWI rasters. A common way to approach this problem is using histogram thresholding. This technique attempts to determine a single threshold value that categorizes and splits the raster’s pixel values. This classifies all of the pixels as either non-water or water, expressed as either 0 or 1. \n",
    "\n",
    "This is often done by manual trial and error, where the analyst visually interprets a histogram and chooses what they think is the best threshold value. Other techniques use various statistical and mathematical tests to determine a threshold value. The ArcPy Spatial Analyst module contains the [Threshold function](https://pro.arcgis.com/en/pro-app/2.8/arcpy/spatial-analyst/threshold.htm), which uses the [Otsu method](https://pro.arcgis.com/en/pro-app/2.8/help/analysis/raster-functions/binary-thresholding-function.htm) to automatically determine the optimal threshold value for a binary classification of a raster dataset.\n",
    "\n",
    "To process the thresholds, you will create another function. Inside the function, the `arcpy.sa.Threshold()` function runs on the input index raster."
   ]
  },
  {
   "cell_type": "markdown",
   "metadata": {},
   "source": [
    "1. Run the cell below to define the create_threshold_raster function."
   ]
  },
  {
   "cell_type": "code",
   "execution_count": null,
   "metadata": {
    "scrolled": true
   },
   "outputs": [],
   "source": [
    "def create_threshold_raster(in_raster):\n",
    "    \"\"\"Creates a function that thresholds the input raster, and then returns it.\"\"\"\n",
    "    \n",
    "    # Run the Ostu thresholding function on the input raster\n",
    "    thresh_calc = arcpy.sa.Threshold(in_raster)\n",
    "    \n",
    "    # Return the result\n",
    "    return thresh_calc"
   ]
  },
  {
   "cell_type": "markdown",
   "metadata": {},
   "source": [
    "Now that the function is defined, you'll use it to generate the thresholds for the NDWI and SWI rasters."
   ]
  },
  {
   "cell_type": "markdown",
   "metadata": {},
   "source": [
    "2. Run the cell below to apply the create_threshold_raster function to the two index rasters."
   ]
  },
  {
   "cell_type": "code",
   "execution_count": null,
   "metadata": {},
   "outputs": [],
   "source": [
    "# Process NDWI \n",
    "# Use the threshold_raster function to process the NDWI raster\n",
    "after_ndwi_thresh_calc = create_threshold_raster(in_raster=after_ndwi_raster)\n",
    "\n",
    "# Create a path for output NDWI file\n",
    "after_ndwi_thresh_raster = r\"memory\\after_ndwi_thresh\"\n",
    "\n",
    "# Save the NDWI thresh raster\n",
    "after_ndwi_thresh_calc.save(after_ndwi_thresh_raster)\n",
    "\n",
    "# Create a raster layer for the NDWI threshold file so it can be viewed in the results map tab\n",
    "after_ndwi_threshold_layer = arcpy.MakeRasterLayer_management(after_ndwi_thresh_raster, 'after_ndwi_threshold')\n",
    "\n",
    "\n",
    "# Process SWI \n",
    "# Use the threshold_raster function to process the SWI raster\n",
    "after_swi_thresh_calc = create_threshold_raster(in_raster=after_swi_raster)\n",
    "\n",
    "# Create a path for output NDWI file\n",
    "after_swi_thresh_raster = r\"memory\\after_swi_thresh\"\n",
    "\n",
    "# Save the SWI thresh raster\n",
    "after_swi_thresh_calc.save(after_swi_thresh_raster)\n",
    "\n",
    "# Create a raster layer for the SWI threshold file so it can be viewed in the results map tab\n",
    "after_swi_threshold_layer = arcpy.MakeRasterLayer_management(after_swi_thresh_raster, 'after_swi_threshold')"
   ]
  },
  {
   "cell_type": "markdown",
   "metadata": {},
   "source": [
    "Now that you've run the create_threshold_raster function on the index rasters, you can inspect the two thresholded rasters.  \n",
    "\n",
    "3. Click the **Map** tab to view the results.  \n",
    "\n",
    "Areas with pixel values of 1 are classified as water. Areas with values of 0 are non-water.\n",
    "\n",
    "Can you see the areas that are classified as water? How do these areas differ in the two thresholded output layers?\n",
    "\n",
    "Higher values in the index raster were assigned a threshold value of 1. This is convenient in this analysis, because the index values corresponding to water were closer to 1. However, you may need to be careful if you add other indices or use this approach to identify different types of features. Not all indices classify the features of interest as high pixel values.  \n",
    "\n",
    "**Note**: Whenever a layer is added to the map, it will be symbolized with a random color or color ramp. The randomly selected colors are not always the best choice for visual interpretation. You can set your own color for the layer from the Contents pane. Right-click the color square under the layer, and choose a different color. You can do this for any layer that is added to the map."
   ]
  },
  {
   "cell_type": "markdown",
   "metadata": {},
   "source": [
    "### Extract the water areas and create a confidence raster\n",
    "\n",
    "You will add the threshold rasters together to compare the results of the thresholding steps. The resulting raster will have three possible values:\n",
    "\n",
    "| Pixel value | Description |\n",
    "| ----------- | ----------- |\n",
    "| 0 | Pixels where neither of the indices identified water |\n",
    "| 1 | Pixels where only one index identified water |\n",
    "| 2 | Pixels where both indices identified water |\n",
    "\n",
    "The result can be thought of as a confidence raster. If both indices indicate that a pixel is water, you have greater confidence in the result than if only one index classified it as water.  \n",
    "\n",
    "To add the two rasters together, you must create [raster objects](https://pro.arcgis.com/en/pro-app/latest/arcpy/classes/raster-object.htm) by using the `Raster()` from the threshold files and then add them together with the + operator. You will store this process in a function that can be called again later."
   ]
  },
  {
   "cell_type": "markdown",
   "metadata": {},
   "source": [
    "1. Run the cell below to define the create_water_confidence_raster function."
   ]
  },
  {
   "cell_type": "code",
   "execution_count": null,
   "metadata": {},
   "outputs": [],
   "source": [
    "def create_water_confidence_raster(ndwi_threshold_raster, swi_threshold_raster):\n",
    "    \"\"\"Create a function that calculates the sum of two rasters.\"\"\"\n",
    "    \n",
    "    # Add the two threshold rasters together by creating raster objects of each and combining them using the addition + operator\n",
    "    water_confidence_raster = Raster(ndwi_threshold_raster) + Raster(swi_threshold_raster)\n",
    "\n",
    "    # Return the result\n",
    "    return water_confidence_raster"
   ]
  },
  {
   "cell_type": "markdown",
   "metadata": {},
   "source": [
    "Now that you have defined the create_water_confidence_raster function, you'll use it to create the confidence raster.  \n",
    "\n",
    "2. Run the cell below to create the confidence raster."
   ]
  },
  {
   "cell_type": "code",
   "execution_count": null,
   "metadata": {},
   "outputs": [],
   "source": [
    "# Call the create_water_confidence_raster function\n",
    "after_water_confidence_raster = create_water_confidence_raster(ndwi_threshold_raster=after_ndwi_thresh_raster, \n",
    "                                                         swi_threshold_raster=after_swi_thresh_raster)\n",
    "\n",
    "# Create a path for output water confidence raster file\n",
    "after_water_confidence_raster_path = r\"memory\\after_water_confidence_raster\"\n",
    "\n",
    "# Save the water confidence raster to a file in memory\n",
    "after_water_confidence_raster.save(after_water_confidence_raster_path)\n",
    "\n",
    "# Create a raster layer for the confidence raster file so it can be viewed in the results map tab\n",
    "# after_water_confidence_matrix_layer = arcpy.MakeRasterLayer_management(after_water_confidence_raster, 'after_water_confidence_matrix')"
   ]
  },
  {
   "cell_type": "markdown",
   "metadata": {},
   "source": [
    "Now that the confidence matrix layer has been added to the map, you can explore the results.  \n",
    "\n",
    "3. Click the **Map** tab to view the results.  \n",
    "\n",
    "Areas with pixel values of 2 were classified as water by both indices.  \n",
    "Areas with values of 1 were classified as water by only one of the indices.  \n",
    "Areas with pixel values of 0 were classified as water by neither of the indices.  \n",
    "\n",
    "You can turn the layers on and off and compare the confidence raster with the index rasters, and with the composite image."
   ]
  },
  {
   "cell_type": "markdown",
   "metadata": {},
   "source": [
    "### Extract the high confidence values  \n",
    "\n",
    "The last step in the process of extracting the water is to reclassify the confidence raster to set all pixels other than the high confidence (2) values to 0. Pixel values of 1, areas of only moderate confidence, will be reset to 0 values.\n",
    "\n",
    "You will use the [Reclassify](https://pro.arcgis.com/en/pro-app/latest/tool-reference/spatial-analyst/reclassify.htm) geoprocessing tool in the Spatial Analyst toolbox. \n",
    "\n",
    "First, you'll define the [remap values](https://pro.arcgis.com/en/pro-app/latest/arcpy/spatial-analyst/remapvalue-class.htm). The Reclassify tool uses the remap values to determine which values you want to change and what to change them to.  \n",
    "\n",
    "Sometimes you'll want to change a range of values to a new value. In these cases, you can use [Remap Range](https://pro.arcgis.com/en/pro-app/latest/arcpy/spatial-analyst/an-overview-of-transformation-classes.htm) to change ranges of values."
   ]
  },
  {
   "cell_type": "markdown",
   "metadata": {},
   "source": [
    "1. Run the cell below to create the remap values and reclassify confidence raster."
   ]
  },
  {
   "cell_type": "code",
   "execution_count": null,
   "metadata": {},
   "outputs": [],
   "source": [
    "# Create the remap values to set any pixels with the value of 1 to 0.\n",
    "remap_value = RemapValue([[1, 0]])\n",
    "\n",
    "# Reclassify the water mask\n",
    "after_water_mask_reclass = Reclassify(in_raster=after_water_confidence_raster_path, \n",
    "                                      reclass_field=\"value\", \n",
    "                                      remap=remap_value)\n",
    "\n",
    "# Create a path for output water mask file\n",
    "after_water_mask_raster = r\"memory\\after_water_mask_high_confidence\"\n",
    "\n",
    "# Save the water mask\n",
    "after_water_mask_reclass.save(after_water_mask_raster)\n",
    "\n",
    "# Create a raster layer so it can be viewed in the results map tab.\n",
    "#after_water_mask_layer = arcpy.MakeRasterLayer_management(after_water_mask_reclass, 'after_water_mask_high_confidence')"
   ]
  },
  {
   "cell_type": "markdown",
   "metadata": {},
   "source": [
    "2. Click the **Map** tab to view the results.  \n",
    "\n",
    "The areas where both indices agreed that there was water (pixel value = 2) contrast with the areas where they disagreed, or agreed that there was no water (values = 0)."
   ]
  },
  {
   "cell_type": "markdown",
   "metadata": {},
   "source": [
    "### Process the before image  \n",
    "\n",
    "Now that all of the functions for your process have been created, and run on the post-flood imagery, you will re-use those functions for the pre-flood image.  \n",
    "Because you understand the steps involved, you can put the code in one code block, and run it all at the same time.\n",
    "\n",
    "The before image folder path was set early in the notebook and stored as the variable `before_img_folder`.\n"
   ]
  },
  {
   "cell_type": "markdown",
   "metadata": {},
   "source": [
    "1. Run the cell below to run all of the processing steps on the 'before' image. "
   ]
  },
  {
   "cell_type": "code",
   "execution_count": null,
   "metadata": {},
   "outputs": [],
   "source": [
    "# Step 1: create the band variables \n",
    "before_Blue, before_Green, before_Red, before_Red_Edge_1, before_NIR, before_SWIR2 = create_sen2_band_variables(\n",
    "    in_folder=before_img_folder)\n",
    "\n",
    "\n",
    "# Step 2: Create a false-color infrared composite image \n",
    "# create a composite image, storing the output in memory\n",
    "arcpy.CompositeBands_management(in_rasters=f\"{before_NIR};{before_Red};{before_Green}\",\n",
    "                                out_raster=r\"memory\\before_composite_img\")\n",
    "\n",
    "# Step 3: create indices \n",
    "# create the SWI raster\n",
    "before_swi_calc = swi_processor(red_edge1_band=before_Red_Edge_1,\n",
    "                                swir2_band=before_SWIR2)\n",
    "\n",
    "# create path for output NDWI file\n",
    "before_swi_raster = r\"memory\\before_swi_raster\"\n",
    "\n",
    "# Save result to file\n",
    "before_swi_calc.save(before_swi_raster)\n",
    "\n",
    "# create a raster layer for the NDWI threshold file so it can be viewed in the results map tab.\n",
    "before_swi_layer = arcpy.MakeRasterLayer_management(before_swi_raster, 'before_swi')\n",
    "\n",
    "# create the NDWI raster\n",
    "before_ndwi_calc = ndwi_processor(green_band=before_Green,\n",
    "                                  nir_band=before_NIR)\n",
    "\n",
    "# create path for output NDWI file\n",
    "before_ndwi_raster = r\"memory\\before_ndwi_raster\"\n",
    "\n",
    "# Save result to file\n",
    "before_ndwi_calc.save(before_ndwi_raster)\n",
    "\n",
    "# create a raster layer for the NDWI threshold file so it can be viewed in the results map tab.\n",
    "before_ndwi_layer = arcpy.MakeRasterLayer_management(before_ndwi_raster, 'before_ndwi')\n",
    "\n",
    "\n",
    "# Step 4: threshold indices \n",
    "# Threshold for NDWI\n",
    "before_ndwi_thresh_calc = create_threshold_raster(in_raster=before_ndwi_raster)\n",
    "\n",
    "# create path for output NDWI file\n",
    "before_ndwi_thresh_raster = r\"memory\\before_ndwi_thresh\"\n",
    "\n",
    "# save the NDWI thresh raster\n",
    "before_ndwi_thresh_calc.save(before_ndwi_thresh_raster)\n",
    "\n",
    "# create a raster layer for the NDWI threshold file so it can be viewed in the results map tab.\n",
    "before_ndwi_threshold_layer = arcpy.MakeRasterLayer_management(before_ndwi_thresh_raster, 'before_ndwi_threshold')\n",
    "\n",
    "# Threshold for SWI\n",
    "before_swi_thresh_calc = create_threshold_raster(in_raster=before_swi_raster)\n",
    "\n",
    "# create path for output SWI file\n",
    "before_swi_thresh_raster = r\"memory\\before_swi_thresh\"\n",
    "\n",
    "# save the SWI thresh raster\n",
    "before_swi_thresh_calc.save(before_swi_thresh_raster)\n",
    "\n",
    "# create a raster layer for the SWI threshold file so it can be viewed in the results map tab.\n",
    "before_swi_threshold_layer = arcpy.MakeRasterLayer_management(before_swi_thresh_raster, 'before_swi_threshold')\n",
    "\n",
    "\n",
    "# Step 5: calculate confidence raster \n",
    "# create water confidence raster\n",
    "before_water_confidence_raster = create_water_confidence_raster(ndwi_threshold_raster=before_ndwi_thresh_raster,\n",
    "                                                                swi_threshold_raster=before_swi_thresh_raster)\n",
    "\n",
    "# create path for output water confidence matrix file\n",
    "before_water_confidence_raster_path = r\"memory\\before_water_confidence_raster\"\n",
    "\n",
    "# save the water confidence matrix to a file in memory\n",
    "before_water_confidence_raster.save(before_water_confidence_raster_path)\n",
    "\n",
    "# create a raster layer for the NDWI threshold file so it can be viewed in the results map tab.\n",
    "# before_water_confidence_layer = arcpy.MakeRasterLayer_management(before_water_confidence_raster, 'before_water_confidence_raster')\n",
    "\n",
    "# Step 6: extract water pixels \n",
    "# create the remap value to set any pixels with the value of 1 to 0.\n",
    "remap_value = RemapValue([[1, 0]])\n",
    "\n",
    "# reclassify the water mask\n",
    "before_water_mask_reclass = Reclassify(in_raster=before_water_confidence_raster_path,\n",
    "                                       reclass_field=\"value\",\n",
    "                                       remap=remap_value)\n",
    "\n",
    "# create path for output water mask file\n",
    "before_water_mask_raster = r\"memory\\before_water_mask_high_confidence\"\n",
    "\n",
    "# save the water mask to\n",
    "before_water_mask_reclass.save(before_water_mask_raster)"
   ]
  },
  {
   "cell_type": "markdown",
   "metadata": {},
   "source": [
    "2. Click the **Map** tab to view the results.  \n",
    "\n",
    "The before_water_mask_reclass layer shows the areas that were covered with water before the flood.\n",
    "\n",
    "3. Press the _Ctrl_ key while clicking the box beside the before_water_mask_reclass layer to turn all the layers off.  \n",
    "4. Check the before_composite_img layer box to turn the layer on. \n",
    "5. Check the after_composite_img layer box to turn the layer on.  \n",
    "\n",
    "You can visually compare the two composite images to see the change that occurred by turning the upper layer, before_composite_img, on and off."
   ]
  },
  {
   "cell_type": "markdown",
   "metadata": {},
   "source": [
    "### Analyze the change between the before and after water areas  \n",
    "\n",
    "Now you will determine which areas from the after image are flood waters, and not pre-existing water bodies. This is called a change analysis. To do this, you'll calculate the difference between the two water mask rasters, subtracting the pre-flood water mask from the post-flood water mask."
   ]
  },
  {
   "cell_type": "markdown",
   "metadata": {},
   "source": [
    "1. Run the cell below to subtract the pre-flood water mask from the post-flood water mask, and reclassify the results."
   ]
  },
  {
   "cell_type": "code",
   "execution_count": null,
   "metadata": {},
   "outputs": [],
   "source": [
    "# Using raster objects, subtract the before water mask from the after water mask\n",
    "flooded_area_calc = Raster(after_water_mask_reclass) - Raster(before_water_mask_reclass)\n",
    "\n",
    "# Createa path for flooded_area_calc\n",
    "flooded_area_calc_raster = r\"memory\\flooded_area_calc\"\n",
    "\n",
    "# Save the flooded_area_calc raster\n",
    "flooded_area_calc.save(flooded_area_calc_raster)"
   ]
  },
  {
   "cell_type": "markdown",
   "metadata": {},
   "source": [
    "The result raster contains three pixel values:\n",
    "\n",
    "| Pixel value | Description | Importance |\n",
    "| ----------- | ----------- | ---------- |\n",
    "| 2 | Where there was water only in the after image | **Important** |\n",
    "| 0 | Where there was water before and after, or where there was no water in either | Not important |\n",
    "| -2 | Where there was no water in the after image, and water in the before image | Not important |\n",
    "\n",
    "The pixels with a value of 2 are the areas that are newly flooded, and did not contain water in the pre-flood imagery. Only these values are of interest, so you can reclassify this raster to set all other pixels to \"NoData\"."
   ]
  },
  {
   "cell_type": "markdown",
   "metadata": {},
   "source": [
    "2. Run the cell below to reclassify the raster to only show the newly flooded areas."
   ]
  },
  {
   "cell_type": "code",
   "execution_count": null,
   "metadata": {},
   "outputs": [],
   "source": [
    "# Reclassify the final flood area \n",
    "\n",
    "# Create the remap values lists\n",
    "remap_value_final = RemapValue([[-2, \"NoData\"], [0, \"NoData\"]])\n",
    "\n",
    "# Reclassify the water mask\n",
    "flooded_area_final = Reclassify(in_raster=flooded_area_calc, \n",
    "                                reclass_field=\"value\", \n",
    "                                remap=remap_value_final)"
   ]
  },
  {
   "cell_type": "markdown",
   "metadata": {},
   "source": [
    "3. Click the **Map** tab to view the results. \n",
    "4. Uncheck the flooded_area_calc layer.  \n",
    "5. Compare the flooded_area_final layer to the two composite images."
   ]
  },
  {
   "cell_type": "markdown",
   "metadata": {},
   "source": [
    "### Save your analysis results  \n",
    "\n",
    "Now that you've found the newly flooded areas, you can save them for later use.  \n",
    "\n",
    "All of the results so far have been saved to a temporary memory workspace that will be removed when you close ArcGIS Pro. However, you will want these final results for a report and further analysis. You will save the result raster and a polygon feature class to the `final_output_folder` that was stored as a variable at the beginning of this lesson."
   ]
  },
  {
   "cell_type": "markdown",
   "metadata": {},
   "source": [
    "1. Run the cell below to save the flooded_area_final raster as a .tif file in the final_output_folder."
   ]
  },
  {
   "cell_type": "code",
   "execution_count": null,
   "metadata": {},
   "outputs": [],
   "source": [
    "# Create path for output flooded area tif file\n",
    "flooded_area_final_raster = os.path.join(final_output_folder, \"Flooded_Area_Final_Raster.tif\")\n",
    "\n",
    "# Save the final flooded area to a tif file\n",
    "flooded_area_final.save(flooded_area_final_raster)"
   ]
  },
  {
   "cell_type": "markdown",
   "metadata": {},
   "source": [
    "You'll use the [Raster to Polygon](https://pro.arcgis.com/en/pro-app/2.8/tool-reference/conversion/raster-to-polygon.htm) tool to save a copy of the results as shapefile.  \n",
    "2. Run the cell below to convert the raster to a polygon shapefile in the final_output_folder."
   ]
  },
  {
   "cell_type": "code",
   "execution_count": null,
   "metadata": {
    "scrolled": false
   },
   "outputs": [],
   "source": [
    "# Create path for output flooded area polygon file\n",
    "flooded_area_final_poly = os.path.join(final_output_folder, \"Flooded_Area_Final_Poly.shp\")\n",
    "\n",
    "# Convert to polygon\n",
    "arcpy.RasterToPolygon_conversion(in_raster=flooded_area_final, \n",
    "                                 out_polygon_features=flooded_area_final_poly, \n",
    "                                 simplify=\"NO_SIMPLIFY\", \n",
    "                                 raster_field=\"Value\")"
   ]
  },
  {
   "cell_type": "markdown",
   "metadata": {},
   "source": [
    "You've completed the analysis. The flooded areas are stored in an image file and a shapefile on your hard drive, ready to use in a report or a further analysis."
   ]
  },
  {
   "cell_type": "markdown",
   "metadata": {},
   "source": [
    "#  Create a script tool from your code  \n",
    "\n",
    "Now that you've finished the analysis, you will create a script tool from your code, so others can use it. Open and follow the instructions in the **Part_2_Script_Tool_Creation.ipynb** file to create a script tool."
   ]
  },
  {
   "cell_type": "markdown",
   "metadata": {},
   "source": [
    "#  Clean up temporary layers\n",
    "\n",
    "Since you don't need the temporary layers, you can remove them from the map. One way to do this is manually, by right-clicking individual layers and clicking **Remove**. You can also remove all the temporary layers using Python code.\n",
    "\n",
    "1. Run the cell below to remove temporary layers from the map."
   ]
  },
  {
   "cell_type": "code",
   "execution_count": null,
   "metadata": {},
   "outputs": [],
   "source": [
    "# Get the currently open ArcGIS Pro Project\n",
    "aprx = arcpy.mp.ArcGISProject(\"current\")\n",
    "# Get the map\n",
    "m = aprx.listMaps(\"Map\")[0]\n",
    "# Get a list of the layers on the map\n",
    "thelyrs = m.listLayers()\n",
    "# Check each layer to determine if it is a temporary, in memory layer, \n",
    "# and remove the layer if it is.\n",
    "for lyr in thelyrs:\n",
    "    print(lyr.dataSource)\n",
    "    if \"INSTANCE_ID=GPProMemoryWorkspace\" in lyr.dataSource:\n",
    "        print(\"Removing: \", lyr.name )\n",
    "        m.removeLayer(lyr)"
   ]
  }
 ],
 "metadata": {
  "kernelspec": {
   "display_name": "ArcGISPro",
   "language": "Python",
   "name": "python3"
  },
  "language_info": {
   "file_extension": ".py",
   "name": "python",
   "version": "3"
  }
 },
 "nbformat": 4,
 "nbformat_minor": 2
}
